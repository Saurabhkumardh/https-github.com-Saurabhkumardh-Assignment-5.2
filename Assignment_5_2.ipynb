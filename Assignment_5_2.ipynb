{
  "nbformat": 4,
  "nbformat_minor": 0,
  "metadata": {
    "colab": {
      "provenance": []
    },
    "kernelspec": {
      "name": "python3",
      "display_name": "Python 3"
    },
    "language_info": {
      "name": "python"
    }
  },
  "cells": [
    {
      "cell_type": "markdown",
      "source": [
        "Question 1\n",
        "Using the Exception class as the base for custom exceptions ensures compatibility, standardized error handling, and clarity in code"
      ],
      "metadata": {
        "id": "07_DiXm6KOZQ"
      }
    },
    {
      "cell_type": "markdown",
      "source": [
        "Question 2"
      ],
      "metadata": {
        "id": "y5-gt0BxKSW4"
      }
    },
    {
      "cell_type": "code",
      "source": [
        "def print_exception_hierarchy(exception, indent=0):\n",
        "    print(' ' * indent + exception.__name__)\n",
        "    if issubclass(exception, BaseException):\n",
        "        for subclass in exception.__subclasses__():\n",
        "            print_exception_hierarchy(subclass, indent + 4)\n",
        "\n",
        "print(\"Python Exception Hierarchy:\")\n",
        "print_exception_hierarchy(BaseException)\n"
      ],
      "metadata": {
        "id": "ox_2h9_bKftl"
      },
      "execution_count": null,
      "outputs": []
    },
    {
      "cell_type": "markdown",
      "source": [
        "Question 3"
      ],
      "metadata": {
        "id": "6vA_StVQKgnC"
      }
    },
    {
      "cell_type": "code",
      "source": [
        "try:\n",
        "    result = 10 / 0\n",
        "except ZeroDivisionError as e:\n",
        "    print(\"Error:\", e)\n",
        "try:\n",
        "    result = 2 ** 1000\n",
        "except OverflowError as e:\n",
        "    print(\"Error:\", e)\n"
      ],
      "metadata": {
        "id": "BVChnHWZKvQ1"
      },
      "execution_count": null,
      "outputs": []
    },
    {
      "cell_type": "markdown",
      "source": [
        "Question 4"
      ],
      "metadata": {
        "id": "i0J5XTfmKzsB"
      }
    },
    {
      "cell_type": "code",
      "source": [
        "my_dict = {'a': 1, 'b': 2, 'c': 3}\n",
        "try:\n",
        "    value = my_dict['d']\n",
        "except KeyError as e:\n",
        "    print(\"Error:\", e)\n",
        "my_list = [1, 2, 3]\n",
        "try:\n",
        "    value = my_list[3]\n",
        "except IndexError as e:\n",
        "    print(\"Error:\", e)\n"
      ],
      "metadata": {
        "id": "riLtLUZmLDZU"
      },
      "execution_count": null,
      "outputs": []
    },
    {
      "cell_type": "markdown",
      "source": [
        "Question 5"
      ],
      "metadata": {
        "id": "RKadWiW4LSqe"
      }
    },
    {
      "cell_type": "code",
      "source": [
        "try:\n",
        "    import nonexistent_module\n",
        "except ImportError as e:\n",
        "    print(\"ImportError:\", e)\n",
        "\n",
        "try:\n",
        "    import nonexistent_module\n",
        "except ModuleNotFoundError as e:\n",
        "    print(\"ModuleNotFoundError:\", e)\n"
      ],
      "metadata": {
        "id": "bv3QVHZmLUx8"
      },
      "execution_count": null,
      "outputs": []
    },
    {
      "cell_type": "markdown",
      "source": [
        "Question 6"
      ],
      "metadata": {
        "id": "KBB-1uyWLWAw"
      }
    },
    {
      "cell_type": "markdown",
      "source": [
        "Specificity\n",
        "Try\n",
        "Handle\n",
        "Avoid\n",
        "Finally\n",
        "Logging\n",
        "Multiple\n",
        "Reraise\n",
        "Appropriateness\n",
        "Simplicity\n",
        "Documentation\n",
        "Customization"
      ],
      "metadata": {
        "id": "V-xrvfplLsfy"
      }
    }
  ]
}